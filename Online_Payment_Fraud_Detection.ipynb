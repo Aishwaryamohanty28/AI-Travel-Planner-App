{
  "nbformat": 4,
  "nbformat_minor": 0,
  "metadata": {
    "colab": {
      "provenance": [],
      "authorship_tag": "ABX9TyNdcW5lbww59gsnNNHNADmI",
      "include_colab_link": true
    },
    "kernelspec": {
      "name": "python3",
      "display_name": "Python 3"
    },
    "language_info": {
      "name": "python"
    }
  },
  "cells": [
    {
      "cell_type": "markdown",
      "metadata": {
        "id": "view-in-github",
        "colab_type": "text"
      },
      "source": [
        "<a href=\"https://colab.research.google.com/github/Aishwaryamohanty28/AI-Travel-Planner-App/blob/main/Online_Payment_Fraud_Detection.ipynb\" target=\"_parent\"><img src=\"https://colab.research.google.com/assets/colab-badge.svg\" alt=\"Open In Colab\"/></a>"
      ]
    },
    {
      "cell_type": "code",
      "execution_count": 3,
      "metadata": {
        "id": "-LZgRnZlRPhZ"
      },
      "outputs": [],
      "source": [
        "import numpy as np\n",
        "import pandas as pd\n",
        "import matplotlib.pyplot as plt\n",
        "import seaborn as sns\n",
        "%matplotlib inline\n"
      ]
    },
    {
      "cell_type": "code",
      "source": [
        "data = pd.read_csv('new_data.csv')\n",
        "data.head()\n"
      ],
      "metadata": {
        "id": "67VWQ8g_UIVo"
      },
      "execution_count": null,
      "outputs": []
    },
    {
      "cell_type": "code",
      "source": [
        "data.info()\n"
      ],
      "metadata": {
        "id": "0jrRghvyWY-Q"
      },
      "execution_count": null,
      "outputs": []
    },
    {
      "cell_type": "code",
      "source": [
        "data.describe()\n"
      ],
      "metadata": {
        "id": "m5gctpp_Wb7b"
      },
      "execution_count": null,
      "outputs": []
    },
    {
      "cell_type": "code",
      "source": [
        "obj = (data.dtypes == 'object')\n",
        "object_cols = list(obj[obj].index)\n",
        "print(\"Categorical variables:\", len(object_cols))\n",
        "\n",
        "int_ = (data.dtypes == 'int')\n",
        "num_cols = list(int_[int_].index)\n",
        "print(\"Integer variables:\", len(num_cols))\n",
        "\n",
        "fl = (data.dtypes == 'float')\n",
        "fl_cols = list(fl[fl].index)\n",
        "print(\"Float variables:\", len(fl_cols))\n"
      ],
      "metadata": {
        "id": "pbUh7VRCWlvc"
      },
      "execution_count": null,
      "outputs": []
    },
    {
      "cell_type": "code",
      "source": [
        "sns.countplot(x='type', data=data)\n"
      ],
      "metadata": {
        "id": "6H3bCfI6Wo5I"
      },
      "execution_count": null,
      "outputs": []
    },
    {
      "cell_type": "code",
      "source": [
        "sns.barplot(x='type', y='amount', data=data)\n"
      ],
      "metadata": {
        "id": "oUrM6iCbWtQs"
      },
      "execution_count": null,
      "outputs": []
    },
    {
      "cell_type": "code",
      "source": [
        "data['isFraud'].value_counts()\n"
      ],
      "metadata": {
        "id": "KYznlziyWx-Y"
      },
      "execution_count": null,
      "outputs": []
    },
    {
      "cell_type": "code",
      "source": [
        "plt.figure(figsize=(15, 6))\n",
        "sns.distplot(data['step'], bins=50)\n"
      ],
      "metadata": {
        "id": "oY92I4-LW0WI"
      },
      "execution_count": null,
      "outputs": []
    },
    {
      "cell_type": "code",
      "source": [
        "plt.figure(figsize=(12, 6))\n",
        "sns.heatmap(data.apply(lambda x: pd.factorize(x)[0]).corr(),\n",
        "\t\t\tcmap='BrBG',\n",
        "\t\t\tfmt='.2f',\n",
        "\t\t\tlinewidths=2,\n",
        "\t\t\tannot=True)\n"
      ],
      "metadata": {
        "id": "ue7sXdKUW5Oe"
      },
      "execution_count": null,
      "outputs": []
    },
    {
      "cell_type": "code",
      "source": [
        "type_new = pd.get_dummies(data['type'], drop_first=True)\n",
        "data_new = pd.concat([data, type_new], axis=1)\n",
        "data_new.head()\n"
      ],
      "metadata": {
        "id": "Y645G4E8W7h5"
      },
      "execution_count": null,
      "outputs": []
    },
    {
      "cell_type": "code",
      "source": [
        "X = data_new.drop(['isFraud', 'type', 'nameOrig', 'nameDest'], axis=1)\n",
        "y = data_new['isFraud']\n"
      ],
      "metadata": {
        "id": "T1vj-HgIW-P1"
      },
      "execution_count": null,
      "outputs": []
    },
    {
      "cell_type": "code",
      "source": [
        "X.shape, y.shape\n"
      ],
      "metadata": {
        "id": "x5dd0TKVXApL"
      },
      "execution_count": null,
      "outputs": []
    },
    {
      "cell_type": "code",
      "source": [
        "from sklearn.model_selection import train_test_split\n",
        "X_train, X_test, y_train, y_test = train_test_split(\n",
        "    X, y, test_size=0.3, random_state=42)\n"
      ],
      "metadata": {
        "id": "_EyxHtYJXEW0"
      },
      "execution_count": null,
      "outputs": []
    },
    {
      "cell_type": "code",
      "source": [
        "from xgboost import XGBClassifier\n",
        "from sklearn.metrics import roc_auc_score as ras\n",
        "from sklearn.linear_model import LogisticRegression\n",
        "from sklearn.svm import SVC\n",
        "from sklearn.ensemble import RandomForestClassifier\n"
      ],
      "metadata": {
        "id": "-UaDNqGUXFJX"
      },
      "execution_count": null,
      "outputs": []
    },
    {
      "cell_type": "code",
      "source": [
        "models = [LogisticRegression(), XGBClassifier(),\n",
        "          RandomForestClassifier(n_estimators=7,\n",
        "                                 criterion='entropy',\n",
        "                                 random_state=7)]\n",
        "\n",
        "for i in range(len(models)):\n",
        "    models[i].fit(X_train, y_train)\n",
        "    print(f'{models[i]} : ')\n",
        "\n",
        "    train_preds = models[i].predict_proba(X_train)[:, 1]\n",
        "    print('Training Accuracy : ', ras(y_train, train_preds))\n",
        "\n",
        "    y_preds = models[i].predict_proba(X_test)[:, 1]\n",
        "    print('Validation Accuracy : ', ras(y_test, y_preds))\n",
        "    print()\n"
      ],
      "metadata": {
        "id": "wBV3rHpUXJE4"
      },
      "execution_count": null,
      "outputs": []
    },
    {
      "cell_type": "code",
      "source": [
        "from sklearn.metrics import ConfusionMatrixDisplay\n",
        "import matplotlib.pyplot as plt\n",
        "\n",
        "cm = ConfusionMatrixDisplay.from_estimator(models[1], X_test, y_test)\n",
        "\n",
        "cm.plot(cmap='Blues')\n",
        "\n",
        "plt.show()\n"
      ],
      "metadata": {
        "id": "VADqEIMGXLYb"
      },
      "execution_count": null,
      "outputs": []
    },
    {
      "cell_type": "code",
      "source": [],
      "metadata": {
        "id": "BQ1YTBX9XNzD"
      },
      "execution_count": null,
      "outputs": []
    }
  ]
}